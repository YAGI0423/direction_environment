{
 "cells": [
  {
   "cell_type": "code",
   "execution_count": 1,
   "id": "97abc29f",
   "metadata": {},
   "outputs": [],
   "source": [
    "import numpy as np\n",
    "import pandas as pd"
   ]
  },
  {
   "cell_type": "code",
   "execution_count": 2,
   "id": "b7147a46",
   "metadata": {},
   "outputs": [],
   "source": [
    "csv = pd.read_csv('./papul.csv')"
   ]
  },
  {
   "cell_type": "code",
   "execution_count": 3,
   "id": "35419b05",
   "metadata": {},
   "outputs": [
    {
     "data": {
      "text/html": [
       "<div>\n",
       "<style scoped>\n",
       "    .dataframe tbody tr th:only-of-type {\n",
       "        vertical-align: middle;\n",
       "    }\n",
       "\n",
       "    .dataframe tbody tr th {\n",
       "        vertical-align: top;\n",
       "    }\n",
       "\n",
       "    .dataframe thead th {\n",
       "        text-align: right;\n",
       "    }\n",
       "</style>\n",
       "<table border=\"1\" class=\"dataframe\">\n",
       "  <thead>\n",
       "    <tr style=\"text-align: right;\">\n",
       "      <th></th>\n",
       "      <th>idx</th>\n",
       "      <th>세계</th>\n",
       "      <th>한국</th>\n",
       "      <th>미국</th>\n",
       "      <th>중국</th>\n",
       "      <th>일본</th>\n",
       "      <th>북한</th>\n",
       "      <th>인도</th>\n",
       "      <th>기타</th>\n",
       "      <th>한국_r</th>\n",
       "      <th>미국_r</th>\n",
       "      <th>중국_r</th>\n",
       "      <th>일본_r</th>\n",
       "      <th>북한_r</th>\n",
       "      <th>인도_r</th>\n",
       "      <th>기타_r</th>\n",
       "    </tr>\n",
       "  </thead>\n",
       "  <tbody>\n",
       "    <tr>\n",
       "      <th>0</th>\n",
       "      <td>0</td>\n",
       "      <td>8045311477</td>\n",
       "      <td>51558034</td>\n",
       "      <td>339996563</td>\n",
       "      <td>1425671352</td>\n",
       "      <td>123294513</td>\n",
       "      <td>26160821</td>\n",
       "      <td>1428627663</td>\n",
       "      <td>4650002531</td>\n",
       "      <td>-0.000017</td>\n",
       "      <td>0.000009</td>\n",
       "      <td>0.000018</td>\n",
       "      <td>-0.000019</td>\n",
       "      <td>0.000028</td>\n",
       "      <td>0.00002</td>\n",
       "      <td>0.000026</td>\n",
       "    </tr>\n",
       "  </tbody>\n",
       "</table>\n",
       "</div>"
      ],
      "text/plain": [
       "   idx          세계        한국         미국          중국         일본        북한  \\\n",
       "0    0  8045311477  51558034  339996563  1425671352  123294513  26160821   \n",
       "\n",
       "           인도          기타      한국_r      미국_r      중국_r      일본_r      북한_r  \\\n",
       "0  1428627663  4650002531 -0.000017  0.000009  0.000018 -0.000019  0.000028   \n",
       "\n",
       "      인도_r      기타_r  \n",
       "0  0.00002  0.000026  "
      ]
     },
     "execution_count": 3,
     "metadata": {},
     "output_type": "execute_result"
    }
   ],
   "source": [
    "csv"
   ]
  },
  {
   "cell_type": "code",
   "execution_count": 9,
   "id": "c1ee9f4b",
   "metadata": {},
   "outputs": [
    {
     "name": "stdout",
     "output_type": "stream",
     "text": [
      "3574153420\n",
      "['기타' '인도' '인도' '인도' '기타' '기타' '기타' '중국' '기타' '중국' '기타' '중국' '기타' '인도'\n",
      " '기타' '인도' '기타' '인도' '중국' '인도' '기타' '기타' '기타' '중국' '인도' '기타' '중국' '인도'\n",
      " '인도' '기타' '기타' '한국' '기타' '기타' '기타' '인도' '기타' '기타' '인도' '중국' '기타' '인도'\n",
      " '기타' '기타' '인도' '기타' '기타' '기타' '기타' '인도' '기타' '인도' '기타' '인도' '기타' '기타'\n",
      " '인도' '미국' '기타' '기타' '기타' '기타' '인도' '기타' '기타' '기타' '인도' '기타' '인도' '중국'\n",
      " '기타' '인도' '인도' '기타' '기타' '인도' '기타' '인도' '기타' '중국' '일본' '중국' '중국' '중국'\n",
      " '인도' '기타' '기타' '기타' '인도' '기타' '기타' '기타' '인도' '기타' '기타' '인도' '일본' '기타'\n",
      " '인도' '기타']\n"
     ]
    }
   ],
   "source": [
    "for idx, data in csv.iterrows():\n",
    "    total = data.세계\n",
    "    \n",
    "    contry_rate = (data[2:9] / total)\n",
    "    \n",
    "    next_popul = int(total * np.random.normal(0.5, 0.05))\n",
    "    print(next_popul)\n",
    "    \n",
    "    a = np.random.choice(contry_rate.index, p=contry_rate.values, size=100)\n",
    "    \n",
    "    print(a)"
   ]
  },
  {
   "cell_type": "code",
   "execution_count": null,
   "id": "1941a9fc",
   "metadata": {},
   "outputs": [],
   "source": []
  }
 ],
 "metadata": {
  "kernelspec": {
   "display_name": "Python 3 (ipykernel)",
   "language": "python",
   "name": "python3"
  },
  "language_info": {
   "codemirror_mode": {
    "name": "ipython",
    "version": 3
   },
   "file_extension": ".py",
   "mimetype": "text/x-python",
   "name": "python",
   "nbconvert_exporter": "python",
   "pygments_lexer": "ipython3",
   "version": "3.9.12"
  }
 },
 "nbformat": 4,
 "nbformat_minor": 5
}
